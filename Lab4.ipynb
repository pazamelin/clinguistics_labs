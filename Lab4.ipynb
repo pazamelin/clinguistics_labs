{
  "nbformat": 4,
  "nbformat_minor": 0,
  "metadata": {
    "kernelspec": {
      "name": "python3",
      "display_name": "Python 3"
    },
    "language_info": {
      "codemirror_mode": {
        "name": "ipython",
        "version": 3
      },
      "file_extension": ".py",
      "mimetype": "text/x-python",
      "name": "python",
      "nbconvert_exporter": "python",
      "pygments_lexer": "ipython3",
      "version": "3.7.0"
    },
    "colab": {
      "name": "Copy of Copy of Lab4.ipynb",
      "provenance": [],
      "collapsed_sections": [],
      "include_colab_link": true
    },
    "accelerator": "GPU"
  },
  "cells": [
    {
      "cell_type": "markdown",
      "metadata": {
        "id": "view-in-github",
        "colab_type": "text"
      },
      "source": [
        "<a href=\"https://colab.research.google.com/github/pazamelin/clinguistics_labs/blob/main/Lab4.ipynb\" target=\"_parent\"><img src=\"https://colab.research.google.com/assets/colab-badge.svg\" alt=\"Open In Colab\"/></a>"
      ]
    },
    {
      "cell_type": "markdown",
      "metadata": {
        "id": "uDFhyOmQan0v"
      },
      "source": [
        "# Text generation with deep learning"
      ]
    },
    {
      "cell_type": "code",
      "metadata": {
        "id": "TslNQEFlan0z"
      },
      "source": [
        "import sys\n",
        "import os\n",
        "import os.path\n",
        "import random\n",
        "import collections\n",
        "import shutil\n",
        "import time\n",
        "import glob\n",
        "import csv\n",
        "import matplotlib.pyplot as plt\n",
        "import numpy as np\n",
        "import pandas as pd\n",
        "from math import pi\n",
        "import scipy\n",
        "\n",
        "import torch\n",
        "import torch.nn as nn\n",
        "import torch.nn.functional as F\n",
        "import torch.optim as optim\n",
        "from torch.utils.data import Dataset, DataLoader\n",
        "from torch.autograd import Variable\n",
        "\n",
        "import torchvision\n",
        "from torchvision import transforms, datasets\n",
        "\n",
        "\n",
        "\n",
        "%matplotlib inline\n",
        "\n",
        "\n",
        "from bokeh.io import show,output_notebook\n",
        "from bokeh.models import ColumnDataSource, HoverTool, LinearColorMapper, BasicTicker, PrintfTickFormatter,ColorBar\n",
        "from bokeh.models import FuncTickFormatter\n",
        "from bokeh.plotting import figure\n",
        "\n",
        "output_notebook()"
      ],
      "execution_count": null,
      "outputs": []
    },
    {
      "cell_type": "markdown",
      "metadata": {
        "id": "1z-nkq4Tan0-"
      },
      "source": [
        "**Задача**\n",
        "\n",
        "   Обучить character recurrent neural network (char RNN) на датасете статей arxiv, а также на своих данных и исследовать её свойства."
      ]
    },
    {
      "cell_type": "markdown",
      "metadata": {
        "id": "6dvYiuYwan1A"
      },
      "source": [
        "Определим структуру сети, в качестве основного блока используем **GRU**"
      ]
    },
    {
      "cell_type": "code",
      "metadata": {
        "id": "uB9dp0eman1B"
      },
      "source": [
        "class RNN(nn.Module):\n",
        "    def __init__(self, input_size, hidden_size, output_size, n_layers=1, batch_first=True):\n",
        "        super(RNN, self).__init__()\n",
        "        self.input_size = input_size\n",
        "        self.hidden_size = hidden_size\n",
        "        self.output_size = output_size\n",
        "        self.n_layers = n_layers\n",
        "        \n",
        "        self.encoder = nn.Embedding(input_size, hidden_size)\n",
        "        self.gru = nn.GRU(hidden_size, hidden_size, n_layers)\n",
        "        self.decoder = nn.Linear(hidden_size, output_size)\n",
        "    \n",
        "    def forward(self, input, hidden):\n",
        "        input = self.encoder(input.view(1, -1))\n",
        "        output, hidden = self.gru(input.view(1, 1, -1), hidden)\n",
        "        output = self.decoder(output.view(1, -1))\n",
        "        return output, hidden\n",
        "\n",
        "    def init_hidden(self):\n",
        "        return torch.zeros(self.n_layers, 1, self.hidden_size)\n",
        "    \n",
        "    def save_model(model, filename='rnn.ckpt'):\n",
        "        checkpoint = {'input_size': model.input_size,\n",
        "                      'hidden_size': model.hidden_size,\n",
        "                      'output_size': model.output_size,\n",
        "                      'n_layers': model.n_layers,\n",
        "                      'state_dict': model.state_dict()}\n",
        "        with open(filename, 'wb') as f:\n",
        "            torch.save(checkpoint, f)\n",
        "\n",
        "    def load_model(filename):\n",
        "\n",
        "        with open(filename, 'rb') as f:\n",
        "            checkpoint = torch.load(f)\n",
        "\n",
        "        model = RNN(input_size = checkpoint['input_size'], output_size = checkpoint['output_size'], hidden_size=checkpoint['hidden_size'], n_layers=checkpoint['n_layers'])\n",
        "        model.load_state_dict(checkpoint['state_dict'])\n",
        "\n",
        "        return model"
      ],
      "execution_count": null,
      "outputs": []
    },
    {
      "cell_type": "markdown",
      "metadata": {
        "id": "F14Yl_xWyQA2"
      },
      "source": [
        "# Пример реализации класса для получения данных из датасета"
      ]
    },
    {
      "cell_type": "code",
      "metadata": {
        "id": "VZf7PBqGan1F"
      },
      "source": [
        "class TextDataset(Dataset):\n",
        "    def __init__(self, text, chunk_len=10):\n",
        "        self.chunks_number = int(len(text) / chunk_len)\n",
        "        print(f'chunks: {self.chunks_number}')\n",
        "        self.chunk_len = chunk_len\n",
        "        self.text = text\n",
        "        self.all_symbols = list({x for x in self.text})\n",
        "    \n",
        "    def __len__(self):\n",
        "        return self.chunks_number\n",
        "    \n",
        "    def _get_tensor(self, text):\n",
        "        return torch.LongTensor(list(map(self.all_symbols.index, text))).cuda()\n",
        "    \n",
        "    def _decode_vector(self, text):\n",
        "        text = text.view(-1).cpu().detach().numpy()\n",
        "        if text.shape[0] == 1:\n",
        "            text = list(text)\n",
        "        print(f'x - {text[0]}')\n",
        "        return ''.join([self.all_symbols[x] for x in text])\n",
        "    \n",
        "    def _get_random_slice(self):\n",
        "        start_index = random.randint(0, len(self.text) - self.chunk_len)\n",
        "        end_index = start_index + self.chunk_len + 1\n",
        "        return self.text[start_index:end_index]\n",
        "    \n",
        "    def __getitem__(self, idx):\n",
        "        chunk = self._get_random_slice()\n",
        "        return self._get_tensor(chunk[:-1]), self._get_tensor(chunk[1:])"
      ],
      "execution_count": null,
      "outputs": []
    },
    {
      "cell_type": "markdown",
      "metadata": {
        "id": "ThGUbWYsan1J"
      },
      "source": [
        "# Здесь должен быть код для считывания данных и создания даталоадера"
      ]
    },
    {
      "cell_type": "code",
      "metadata": {
        "id": "DXnbcOYT36sN",
        "colab": {
          "base_uri": "https://localhost:8080/",
          "height": 538
        },
        "outputId": "ba25cd03-0722-4104-dfb6-282e088553f4"
      },
      "source": [
        "# download the file from google-drive\n",
        "!pip install --quiet gdown\n",
        "!gdown --id 1ZzxFJBdyz56b1AKVRFWxw9y9UPkeC1AS\n",
        "!ls -l\n",
        "\n",
        "# import as a pandas DataFrame\n",
        "dataset_raw = pd.read_csv('arxiv.csv')\n",
        "dataset_raw.drop(['time', 'favorites', 'rts', 'authors', 'category', 'published', 'tweeted'], axis=1, inplace=True)\n",
        "dataset_raw"
      ],
      "execution_count": null,
      "outputs": [
        {
          "output_type": "stream",
          "name": "stdout",
          "text": [
            "Downloading...\n",
            "From: https://drive.google.com/uc?id=1ZzxFJBdyz56b1AKVRFWxw9y9UPkeC1AS\n",
            "To: /content/arxiv.csv\n",
            "100% 34.3M/34.3M [00:00<00:00, 119MB/s]\n",
            "total 33484\n",
            "-rw-r--r-- 1 root root 34280741 Mar 14 20:02 arxiv.csv\n",
            "drwxr-xr-x 1 root root     4096 Mar  9 14:48 sample_data\n"
          ]
        },
        {
          "output_type": "execute_result",
          "data": {
            "text/plain": [
              "                           link  \\\n",
              "0      arxiv.org/abs/1611.10003   \n",
              "1      arxiv.org/abs/1611.10007   \n",
              "2      arxiv.org/abs/1611.10010   \n",
              "3      arxiv.org/abs/1611.10012   \n",
              "4      arxiv.org/abs/1611.10014   \n",
              "...                         ...   \n",
              "27183  arxiv.org/abs/1710.04176   \n",
              "27184  arxiv.org/abs/1710.04177   \n",
              "27185  arxiv.org/abs/1710.04196   \n",
              "27186  arxiv.org/abs/1710.04200   \n",
              "27187  arxiv.org/abs/1710.04203   \n",
              "\n",
              "                                                 summary  \\\n",
              "0      In summary of the research findings presented ...   \n",
              "1      In this paper, structural controllability of a...   \n",
              "2      We present a Deep Cuboid Detector which takes ...   \n",
              "3      In this paper, we study the trade-off between ...   \n",
              "4      In this paper, we propose a characterization o...   \n",
              "...                                                  ...   \n",
              "27183  Being motivated by the multilayer RECOS (REcti...   \n",
              "27184  Understanding tie strength in social networks,...   \n",
              "27185  We present pyroomacoustics, a software package...   \n",
              "27186  Joint image filters leverage the guidance imag...   \n",
              "27187  Sentiment analysis aims to uncover emotions co...   \n",
              "\n",
              "                                                   title  \n",
              "0      Vocabulary and the Brain: Evidence from Neuroi...  \n",
              "1      Structural Controllability of Multi-Agent Netw...  \n",
              "2        Deep Cuboid Detection: Beyond 2D Bounding Boxes  \n",
              "3      Speed/accuracy trade-offs for modern convoluti...  \n",
              "4      Characterization and Efficient Exhaustive Sear...  \n",
              "...                                                  ...  \n",
              "27183                      On Data-Driven Saak Transform  \n",
              "27184                                 The Social Bow Tie  \n",
              "27185  Pyroomacoustics: A Python package for audio ro...  \n",
              "27186  Joint Image Filtering with Deep Convolutional ...  \n",
              "27187  Crowdsourcing for Beyond Polarity Sentiment An...  \n",
              "\n",
              "[27188 rows x 3 columns]"
            ],
            "text/html": [
              "\n",
              "  <div id=\"df-6f87ef2f-9bc6-4393-9c75-70b69bcc8e9f\">\n",
              "    <div class=\"colab-df-container\">\n",
              "      <div>\n",
              "<style scoped>\n",
              "    .dataframe tbody tr th:only-of-type {\n",
              "        vertical-align: middle;\n",
              "    }\n",
              "\n",
              "    .dataframe tbody tr th {\n",
              "        vertical-align: top;\n",
              "    }\n",
              "\n",
              "    .dataframe thead th {\n",
              "        text-align: right;\n",
              "    }\n",
              "</style>\n",
              "<table border=\"1\" class=\"dataframe\">\n",
              "  <thead>\n",
              "    <tr style=\"text-align: right;\">\n",
              "      <th></th>\n",
              "      <th>link</th>\n",
              "      <th>summary</th>\n",
              "      <th>title</th>\n",
              "    </tr>\n",
              "  </thead>\n",
              "  <tbody>\n",
              "    <tr>\n",
              "      <th>0</th>\n",
              "      <td>arxiv.org/abs/1611.10003</td>\n",
              "      <td>In summary of the research findings presented ...</td>\n",
              "      <td>Vocabulary and the Brain: Evidence from Neuroi...</td>\n",
              "    </tr>\n",
              "    <tr>\n",
              "      <th>1</th>\n",
              "      <td>arxiv.org/abs/1611.10007</td>\n",
              "      <td>In this paper, structural controllability of a...</td>\n",
              "      <td>Structural Controllability of Multi-Agent Netw...</td>\n",
              "    </tr>\n",
              "    <tr>\n",
              "      <th>2</th>\n",
              "      <td>arxiv.org/abs/1611.10010</td>\n",
              "      <td>We present a Deep Cuboid Detector which takes ...</td>\n",
              "      <td>Deep Cuboid Detection: Beyond 2D Bounding Boxes</td>\n",
              "    </tr>\n",
              "    <tr>\n",
              "      <th>3</th>\n",
              "      <td>arxiv.org/abs/1611.10012</td>\n",
              "      <td>In this paper, we study the trade-off between ...</td>\n",
              "      <td>Speed/accuracy trade-offs for modern convoluti...</td>\n",
              "    </tr>\n",
              "    <tr>\n",
              "      <th>4</th>\n",
              "      <td>arxiv.org/abs/1611.10014</td>\n",
              "      <td>In this paper, we propose a characterization o...</td>\n",
              "      <td>Characterization and Efficient Exhaustive Sear...</td>\n",
              "    </tr>\n",
              "    <tr>\n",
              "      <th>...</th>\n",
              "      <td>...</td>\n",
              "      <td>...</td>\n",
              "      <td>...</td>\n",
              "    </tr>\n",
              "    <tr>\n",
              "      <th>27183</th>\n",
              "      <td>arxiv.org/abs/1710.04176</td>\n",
              "      <td>Being motivated by the multilayer RECOS (REcti...</td>\n",
              "      <td>On Data-Driven Saak Transform</td>\n",
              "    </tr>\n",
              "    <tr>\n",
              "      <th>27184</th>\n",
              "      <td>arxiv.org/abs/1710.04177</td>\n",
              "      <td>Understanding tie strength in social networks,...</td>\n",
              "      <td>The Social Bow Tie</td>\n",
              "    </tr>\n",
              "    <tr>\n",
              "      <th>27185</th>\n",
              "      <td>arxiv.org/abs/1710.04196</td>\n",
              "      <td>We present pyroomacoustics, a software package...</td>\n",
              "      <td>Pyroomacoustics: A Python package for audio ro...</td>\n",
              "    </tr>\n",
              "    <tr>\n",
              "      <th>27186</th>\n",
              "      <td>arxiv.org/abs/1710.04200</td>\n",
              "      <td>Joint image filters leverage the guidance imag...</td>\n",
              "      <td>Joint Image Filtering with Deep Convolutional ...</td>\n",
              "    </tr>\n",
              "    <tr>\n",
              "      <th>27187</th>\n",
              "      <td>arxiv.org/abs/1710.04203</td>\n",
              "      <td>Sentiment analysis aims to uncover emotions co...</td>\n",
              "      <td>Crowdsourcing for Beyond Polarity Sentiment An...</td>\n",
              "    </tr>\n",
              "  </tbody>\n",
              "</table>\n",
              "<p>27188 rows × 3 columns</p>\n",
              "</div>\n",
              "      <button class=\"colab-df-convert\" onclick=\"convertToInteractive('df-6f87ef2f-9bc6-4393-9c75-70b69bcc8e9f')\"\n",
              "              title=\"Convert this dataframe to an interactive table.\"\n",
              "              style=\"display:none;\">\n",
              "        \n",
              "  <svg xmlns=\"http://www.w3.org/2000/svg\" height=\"24px\"viewBox=\"0 0 24 24\"\n",
              "       width=\"24px\">\n",
              "    <path d=\"M0 0h24v24H0V0z\" fill=\"none\"/>\n",
              "    <path d=\"M18.56 5.44l.94 2.06.94-2.06 2.06-.94-2.06-.94-.94-2.06-.94 2.06-2.06.94zm-11 1L8.5 8.5l.94-2.06 2.06-.94-2.06-.94L8.5 2.5l-.94 2.06-2.06.94zm10 10l.94 2.06.94-2.06 2.06-.94-2.06-.94-.94-2.06-.94 2.06-2.06.94z\"/><path d=\"M17.41 7.96l-1.37-1.37c-.4-.4-.92-.59-1.43-.59-.52 0-1.04.2-1.43.59L10.3 9.45l-7.72 7.72c-.78.78-.78 2.05 0 2.83L4 21.41c.39.39.9.59 1.41.59.51 0 1.02-.2 1.41-.59l7.78-7.78 2.81-2.81c.8-.78.8-2.07 0-2.86zM5.41 20L4 18.59l7.72-7.72 1.47 1.35L5.41 20z\"/>\n",
              "  </svg>\n",
              "      </button>\n",
              "      \n",
              "  <style>\n",
              "    .colab-df-container {\n",
              "      display:flex;\n",
              "      flex-wrap:wrap;\n",
              "      gap: 12px;\n",
              "    }\n",
              "\n",
              "    .colab-df-convert {\n",
              "      background-color: #E8F0FE;\n",
              "      border: none;\n",
              "      border-radius: 50%;\n",
              "      cursor: pointer;\n",
              "      display: none;\n",
              "      fill: #1967D2;\n",
              "      height: 32px;\n",
              "      padding: 0 0 0 0;\n",
              "      width: 32px;\n",
              "    }\n",
              "\n",
              "    .colab-df-convert:hover {\n",
              "      background-color: #E2EBFA;\n",
              "      box-shadow: 0px 1px 2px rgba(60, 64, 67, 0.3), 0px 1px 3px 1px rgba(60, 64, 67, 0.15);\n",
              "      fill: #174EA6;\n",
              "    }\n",
              "\n",
              "    [theme=dark] .colab-df-convert {\n",
              "      background-color: #3B4455;\n",
              "      fill: #D2E3FC;\n",
              "    }\n",
              "\n",
              "    [theme=dark] .colab-df-convert:hover {\n",
              "      background-color: #434B5C;\n",
              "      box-shadow: 0px 1px 3px 1px rgba(0, 0, 0, 0.15);\n",
              "      filter: drop-shadow(0px 1px 2px rgba(0, 0, 0, 0.3));\n",
              "      fill: #FFFFFF;\n",
              "    }\n",
              "  </style>\n",
              "\n",
              "      <script>\n",
              "        const buttonEl =\n",
              "          document.querySelector('#df-6f87ef2f-9bc6-4393-9c75-70b69bcc8e9f button.colab-df-convert');\n",
              "        buttonEl.style.display =\n",
              "          google.colab.kernel.accessAllowed ? 'block' : 'none';\n",
              "\n",
              "        async function convertToInteractive(key) {\n",
              "          const element = document.querySelector('#df-6f87ef2f-9bc6-4393-9c75-70b69bcc8e9f');\n",
              "          const dataTable =\n",
              "            await google.colab.kernel.invokeFunction('convertToInteractive',\n",
              "                                                     [key], {});\n",
              "          if (!dataTable) return;\n",
              "\n",
              "          const docLinkHtml = 'Like what you see? Visit the ' +\n",
              "            '<a target=\"_blank\" href=https://colab.research.google.com/notebooks/data_table.ipynb>data table notebook</a>'\n",
              "            + ' to learn more about interactive tables.';\n",
              "          element.innerHTML = '';\n",
              "          dataTable['output_type'] = 'display_data';\n",
              "          await google.colab.output.renderOutput(dataTable, element);\n",
              "          const docLink = document.createElement('div');\n",
              "          docLink.innerHTML = docLinkHtml;\n",
              "          element.appendChild(docLink);\n",
              "        }\n",
              "      </script>\n",
              "    </div>\n",
              "  </div>\n",
              "  "
            ]
          },
          "metadata": {},
          "execution_count": 5
        }
      ]
    },
    {
      "cell_type": "code",
      "source": [
        "summaries_list = dataset_raw['summary'].tolist()\n",
        "summaries_text = ' '.join(summaries_list) \n",
        "summaries_text = summaries_text[:5000]\n",
        "summaries_text = summaries_text.split()\n",
        "print(summaries_text)\n",
        "\n",
        "# Parameters\n",
        "params = {\n",
        "    # 'batch_size': 0,\n",
        "    # 'shuffle': True,\n",
        "    # 'num_workers': 1\n",
        "}\n",
        "\n",
        "torch.multiprocessing.set_start_method(\"spawn\", force=True)\n",
        "\n",
        "# Generators\n",
        "arxiv_dataset = TextDataset(text=summaries_text, chunk_len=100)\n",
        "arxiv_generator = torch.utils.data.DataLoader(arxiv_dataset, **params)"
      ],
      "metadata": {
        "colab": {
          "base_uri": "https://localhost:8080/"
        },
        "id": "A9Ec2oy_RyRX",
        "outputId": "bc849075-c97b-4100-8e66-ea4582da3a9d"
      },
      "execution_count": null,
      "outputs": [
        {
          "output_type": "stream",
          "name": "stdout",
          "text": [
            "['In', 'summary', 'of', 'the', 'research', 'findings', 'presented', 'in', 'this', 'paper,', 'various', 'brain', 'regions', 'are', 'correlated', 'with', 'vocabulary', 'and', 'vocabulary', 'acquisition.', 'Semantic', 'associations', 'for', 'vocabulary', 'seem', 'to', 'be', 'located', 'near', 'brain', 'areas', 'that', 'vary', 'according', 'to', 'the', 'type', 'of', 'vocabulary,', 'e.g.', 'ventral', 'temporal', 'regions', 'important', 'for', 'words', 'for', 'things', 'that', 'can', 'be', 'seen.', 'Semantic', 'processing', 'is', 'believed', 'to', 'be', 'strongly', 'associated', 'with', 'the', 'ANG.', 'Phonological', 'ability', 'has', 'been', 'closely', 'related', 'to', 'the', 'anterior', 'surfaces', 'of', 'the', 'SMG.', 'Pathways', 'through', 'the', 'posterior', 'SMG', 'are', 'thought', 'to', 'link', 'the', 'anterior', 'SMG', 'and', 'the', 'ANG.', 'In', 'vocabulary', 'tasks,', 'mediotemporal', 'structures', 'may', 'be', 'related', 'to', 'long-term', 'memory', 'processing,', 'with', 'left', 'hippocampal', 'and', 'parahippocampal', 'regions', 'related', 'to', 'long-term', 'and', 'working', 'memory,', 'respectively.', 'Precentral', 'structures', 'are', 'associated', 'with', 'phonological', 'retrieval.', 'Furthermore,', 'many', 'more', 'regions', 'of', 'the', 'brain', 'are', 'of', 'interest', 'in', 'vocabulary', 'tasks,', 'particularly', 'in', 'areas', 'important', 'for', 'visual', 'and', 'auditory', 'processing.', 'Furthermore,', 'differences', 'between', 'brain', 'anatomies', 'can', 'be', 'attributed', 'to', 'vocabulary', 'demands', 'of', 'different', 'languages.', 'In', 'this', 'paper,', 'structural', 'controllability', 'of', 'a', 'leader-follower', 'multi-agent', 'system', 'with', 'multiple', 'leaders', 'is', 'studied', 'from', 'a', 'graph-theoretic', 'point', 'of', 'view.', 'The', 'problem', 'of', 'preservation', 'of', 'structural', 'controllability', 'under', 'simultaneous', 'failures', 'in', 'both', 'the', 'communication', 'links', 'and', 'the', 'agents', 'is', 'investigated.', 'The', 'effects', 'of', 'the', 'loss', 'of', 'agents', 'and', 'communication', 'links', 'on', 'the', 'controllability', 'of', 'an', 'information', 'flow', 'graph', 'are', 'previously', 'studied.', 'In', 'this', 'work,', 'the', 'corresponding', 'results', 'are', 'exploited', 'to', 'introduce', 'some', 'useful', 'indices', 'and', 'importance', 'measures', 'that', 'help', 'characterize', 'and', 'quantify', 'the', 'role', 'of', 'individual', 'links', 'and', 'agents', 'in', 'the', 'controllability', 'of', 'the', 'overall', 'network.', 'Existing', 'results', 'are', 'then', 'extended', 'by', 'considering', 'the', 'effects', 'of', 'losses', 'in', 'both', 'links', 'and', 'agents', 'at', 'the', 'same', 'time.', 'To', 'this', 'end,', 'the', 'concepts', 'of', 'joint', '(r,s)-controllability', 'and', 'joint', 't-controllability', 'are', 'introduced', 'as', 'quantitative', 'measures', 'of', 'reliability', 'for', 'a', 'multi-agent', 'system,', 'and', 'their', 'important', 'properties', 'are', 'investigated.', 'Lastly,', 'the', 'class', 'of', 'jointly', 'critical', 'digraphs', 'is', 'introduced', 'and', 'it', 'is', 'stated', 'that', 'if', 'a', 'digraph', 'is', 'jointly', 'critical,', 'then', 'joint', 't-controllability', 'is', 'a', 'necessary', 'and', 'sufficient', 'condition', 'for', 'remaining', 'controllable', 'following', 'the', 'failure', 'of', 'any', 'set', 'of', 'links', 'and', 'agents,', 'with', 'cardinality', 'less', 'than', 't.', 'Various', 'examples', 'are', 'exploited', 'throughout', 'the', 'paper', 'to', 'elaborate', 'on', 'the', 'analytical', 'findings.', 'We', 'present', 'a', 'Deep', 'Cuboid', 'Detector', 'which', 'takes', 'a', 'consumer-quality', 'RGB', 'image', 'of', 'a', 'cluttered', 'scene', 'and', 'localizes', 'all', '3D', 'cuboids', '(box-like', 'objects).', 'Contrary', 'to', 'classical', 'approaches', 'which', 'fit', 'a', '3D', 'model', 'from', 'low-level', 'cues', 'like', 'corners,', 'edges,', 'and', 'vanishing', 'points,', 'we', 'propose', 'an', 'end-to-end', 'deep', 'learning', 'system', 'to', 'detect', 'cuboids', 'across', 'many', 'semantic', 'categories', '(e.g.,', 'ovens,', 'shipping', 'boxes,', 'and', 'furniture).', 'We', 'localize', 'cuboids', 'with', 'a', '2D', 'bounding', 'box,', 'and', 'simultaneously', 'localize', 'the', \"cuboid's\", 'corners,', 'effectively', 'producing', 'a', '3D', 'interpretation', 'of', 'box-like', 'objects.', 'We', 'refine', 'keypoints', 'by', 'pooling', 'convolutional', 'features', 'iteratively,', 'improving', 'the', 'baseline', 'method', 'significantly.', 'Our', 'deep', 'learning', 'cuboid', 'detector', 'is', 'trained', 'in', 'an', 'end-to-end', 'fashion', 'and', 'is', 'suitable', 'for', 'real-time', 'applications', 'in', 'augmented', 'reality', '(AR)', 'and', 'robotics.', 'In', 'this', 'paper,', 'we', 'study', 'the', 'trade-off', 'between', 'accuracy', 'and', 'speed', 'when', 'building', 'an', 'object', 'detection', 'system', 'based', 'on', 'convolutional', 'neural', 'networks.', 'We', 'consider', 'three', 'main', 'families', 'of', 'detectors', '---', 'Faster', 'R-CNN,', 'R-FCN', 'and', 'SSD', '---', 'which', 'we', 'view', 'as', '\"meta-architectures\".', 'Each', 'of', 'these', 'can', 'be', 'combined', 'with', 'different', 'kinds', 'of', 'feature', 'extractors,', 'such', 'as', 'VGG,', 'Inception', 'or', 'ResNet.', 'In', 'addition,', 'we', 'can', 'vary', 'other', 'parameters,', 'such', 'as', 'the', 'image', 'resolution,', 'and', 'the', 'number', 'of', 'box', 'proposals.', 'We', 'develop', 'a', 'unified', 'framework', '(in', 'Tensorflow)', 'that', 'enables', 'us', 'to', 'perform', 'a', 'fair', 'comparison', 'between', 'all', 'of', 'these', 'variants.', 'We', 'analyze', 'the', 'performance', 'of', 'many', 'different', 'previously', 'published', 'model', 'combinations,', 'as', 'well', 'as', 'some', 'novel', 'ones,', 'and', 'thus', 'identify', 'a', 'set', 'of', 'models', 'which', 'achieve', 'different', 'points', 'on', 'the', 'speed-accuracy', 'tradeoff', 'curve,', 'ranging', 'from', 'fast', 'models,', 'suitable', 'for', 'use', 'on', 'a', 'mobile', 'phone,', 'to', 'a', 'much', 'slower', 'model', 'that', 'achieves', 'a', 'new', 'state', 'of', 'the', 'art', 'on', 'the', 'COCO', 'detection', 'challenge.', 'In', 'this', 'paper,', 'we', 'propose', 'a', 'characterization', 'of', 'elementary', 'trapping', 'sets', '(ETSs)', 'for', 'irregular', 'low-density', 'parity-check', '(LDPC)', 'codes.', 'These', 'sets', 'are', 'known', 'to', 'be', 'the', 'main', 'culprits', 'in', 'the', 'error', 'floor', 'region', 'of', 'such', 'codes.', 'The', 'characterization', 'of', 'ETSs', 'for', 'irregular', 'codes', 'has', 'been', 'known', 'to', 'be', 'a', 'challenging', 'problem', 'due', 'to', 'the', 'large', 'variety', 'of', 'non-isomorphic', 'ETS', 'structures', 'that', 'can', 'exist', 'within', 'the', 'Tanner', 'graph', 'of', 'these', 'codes.', 'This', 'is', 'a', 'direct', 'consequence', 'of', 'the', 'variety', 'of', 'the', 'degrees', 'of', 'the', 'variable', 'nodes', 'that', 'can', 'participate', 'in', 'such', 'structures.', 'The', 'proposed', 'characterization', 'is', 'based', 'on', 'a', 'hierarchical', 'graphical', 'representation', 'of', 'ETSs,', 'starting', 'from', 'simple', 'cycles', 'of', 'the', 'graph,', 'or', 'from', 'single', 'variabl']\n",
            "chunks: 7\n"
          ]
        }
      ]
    },
    {
      "cell_type": "markdown",
      "metadata": {
        "id": "wQifVgIy37ow"
      },
      "source": [
        "Смотрим, сколько уникальных символов есть в датасете - это и будет размер выходного вектора у нейронной сети"
      ]
    },
    {
      "cell_type": "code",
      "metadata": {
        "id": "QO8snknfan1W"
      },
      "source": [
        "unique_symbols = len(arxiv_dataset.all_symbols)\n",
        "n_layers = 2\n",
        "hidden_size = 100"
      ],
      "execution_count": null,
      "outputs": []
    },
    {
      "cell_type": "code",
      "metadata": {
        "id": "0rcpzJLlan1Z",
        "outputId": "e9571574-8b4b-44dc-a9d1-2552ab5f4a07",
        "colab": {
          "base_uri": "https://localhost:8080/"
        }
      },
      "source": [
        "unique_symbols"
      ],
      "execution_count": null,
      "outputs": [
        {
          "output_type": "execute_result",
          "data": {
            "text/plain": [
              "400"
            ]
          },
          "metadata": {},
          "execution_count": 8
        }
      ]
    },
    {
      "cell_type": "code",
      "metadata": {
        "id": "7wCYn1gaan1e"
      },
      "source": [
        "net = RNN(unique_symbols, hidden_size, unique_symbols, n_layers)"
      ],
      "execution_count": null,
      "outputs": []
    },
    {
      "cell_type": "code",
      "metadata": {
        "id": "T0pIYSrXan1j"
      },
      "source": [
        "device = torch.device(\"cuda\")"
      ],
      "execution_count": null,
      "outputs": []
    },
    {
      "cell_type": "code",
      "metadata": {
        "id": "XCETV2_lan1m"
      },
      "source": [
        "net = net.to(device)\n",
        "optimizer = torch.optim.Adam(net.parameters(), lr=1e-4)\n",
        "criterion = nn.CrossEntropyLoss()"
      ],
      "execution_count": null,
      "outputs": []
    },
    {
      "cell_type": "markdown",
      "metadata": {
        "id": "mUNreOMx48it"
      },
      "source": [
        "# Здесь нужно реализовать функцию для генерации текста с помощью сети"
      ]
    },
    {
      "cell_type": "code",
      "metadata": {
        "id": "dxxUXllHan1q",
        "colab": {
          "base_uri": "https://localhost:8080/",
          "height": 35
        },
        "outputId": "cbee22da-673b-46ad-8197-5bb40c79e4e2"
      },
      "source": [
        "def generate(net, device, dataset, prime_str='In', predict_len=10, temperature=0.8):\n",
        "    #Code to generate string based on input sequence (prime_str)\n",
        "    hidden = net.init_hidden().cuda()\n",
        "\n",
        "    for p in range(predict_len):        \n",
        "        prime_input = dataset._get_tensor(prime_str.split())\n",
        "        inp = prime_input[-1:] #last word as input\n",
        "        output, hidden = net(inp, hidden)\n",
        "        \n",
        "        # Sample from the network as a multinomial distribution\n",
        "        output_dist = output.data.view(-1).div(temperature).exp()\n",
        "        top_i = torch.multinomial(output_dist, 1)[0]\n",
        "\n",
        "        # Add predicted word to string and use as next input\n",
        "        predicted_word = dataset.all_symbols[top_i.item()]\n",
        "        prime_str += ' ' + predicted_word\n",
        "\n",
        "    return prime_str\n",
        "\n",
        "\n",
        "generate(net, device, arxiv_dataset)   "
      ],
      "execution_count": null,
      "outputs": [
        {
          "output_type": "execute_result",
          "data": {
            "text/plain": [
              "'In effectively near multi-agent takes system, convolutional previously quantitative art resolution,'"
            ],
            "application/vnd.google.colaboratory.intrinsic+json": {
              "type": "string"
            }
          },
          "metadata": {},
          "execution_count": 12
        }
      ]
    },
    {
      "cell_type": "markdown",
      "metadata": {
        "id": "Yg6SlunJ5D2J"
      },
      "source": [
        "# Здесь должен быть цикл тренировки"
      ]
    },
    {
      "cell_type": "code",
      "metadata": {
        "id": "OM0k28d5an1y"
      },
      "source": [
        "epochs = 10000"
      ],
      "execution_count": null,
      "outputs": []
    },
    {
      "cell_type": "code",
      "metadata": {
        "id": "k-7Or0mLan11",
        "outputId": "e2b6ea5d-147b-442d-e096-0dc690e9ab7e",
        "colab": {
          "base_uri": "https://localhost:8080/"
        }
      },
      "source": [
        "start = time.time()\n",
        "all_losses = []\n",
        "temperature = 0.8\n",
        "\n",
        "for epoch in range(1, epochs+1):\n",
        "  # #Your code for training here\n",
        "  for local_batch, local_labels in arxiv_generator:\n",
        "    for input, label in zip(local_batch, local_labels):\n",
        "      hidden = net.init_hidden().cuda()\n",
        "      net.zero_grad()\n",
        "      loss = 0\n",
        "\n",
        "      # get output\n",
        "      output, hidden = net(input[-1:].cuda(), hidden)\n",
        "      output_dist = output.data.view(-1).div(temperature).exp()\n",
        "      word_index = torch.multinomial(output_dist, 1)\n",
        "      predicted_word = arxiv_dataset.all_symbols[word_index.item()]\n",
        "      \n",
        "      # compute loss\n",
        "      loss = criterion(output, label[-1:].view(-1).long())\n",
        "\n",
        "      loss.backward()\n",
        "      optimizer.step()\n",
        "      all_losses.append(loss.data.item())\n",
        "\n",
        "print(\"Saving...\")\n",
        "RNN.save_model(net, \"TrainedModel.ckpt\")"
      ],
      "execution_count": null,
      "outputs": [
        {
          "output_type": "stream",
          "name": "stdout",
          "text": [
            "Saving...\n"
          ]
        }
      ]
    },
    {
      "cell_type": "code",
      "source": [
        "net(input[-1:], hidden)[0].shape"
      ],
      "metadata": {
        "id": "srkUUq0Aj5y-",
        "outputId": "854f13d9-c343-4456-afc2-792ebe730cf7",
        "colab": {
          "base_uri": "https://localhost:8080/"
        }
      },
      "execution_count": null,
      "outputs": [
        {
          "output_type": "execute_result",
          "data": {
            "text/plain": [
              "torch.Size([1, 400])"
            ]
          },
          "metadata": {},
          "execution_count": 15
        }
      ]
    },
    {
      "cell_type": "code",
      "source": [
        "label[-1:]"
      ],
      "metadata": {
        "id": "L_WCOlPckJse",
        "outputId": "0cd948bd-cfaa-4b18-da54-9cb4e9a9205d",
        "colab": {
          "base_uri": "https://localhost:8080/"
        }
      },
      "execution_count": null,
      "outputs": [
        {
          "output_type": "execute_result",
          "data": {
            "text/plain": [
              "tensor([230], device='cuda:0')"
            ]
          },
          "metadata": {},
          "execution_count": 16
        }
      ]
    },
    {
      "cell_type": "code",
      "source": [
        "plt.figure()\n",
        "plt.plot(all_losses)"
      ],
      "metadata": {
        "id": "IsffymjrPlgx",
        "outputId": "f84d10d4-6fa5-4703-aead-448def5019fc",
        "colab": {
          "base_uri": "https://localhost:8080/",
          "height": 282
        }
      },
      "execution_count": null,
      "outputs": [
        {
          "output_type": "execute_result",
          "data": {
            "text/plain": [
              "[<matplotlib.lines.Line2D at 0x7f7b4b235b90>]"
            ]
          },
          "metadata": {},
          "execution_count": 17
        },
        {
          "output_type": "display_data",
          "data": {
            "text/plain": [
              "<Figure size 432x288 with 1 Axes>"
            ],
            "image/png": "[encoded data removed]"
          },
          "metadata": {
            "needs_background": "light"
          }
        }
      ]
    },
    {
      "cell_type": "markdown",
      "metadata": {
        "id": "DZ_g0iNran2A"
      },
      "source": [
        "## Результаты тренировки"
      ]
    },
    {
      "cell_type": "code",
      "metadata": {
        "id": "KGgmnmQPan2B",
        "outputId": "7624fd8b-f1ae-4691-a12c-a403ed976688",
        "colab": {
          "base_uri": "https://localhost:8080/"
        }
      },
      "source": [
        "generated_text = generate(net, device, arxiv_dataset, 'In this research', 200 )\n",
        "print(generated_text)"
      ],
      "execution_count": null,
      "outputs": [
        {
          "output_type": "stream",
          "name": "stdout",
          "text": [
            "In this research proposals. We present a consumer-quality RGB failures in such as the failure of the failure of feature extractors, such codes. These sets are of box-like objects. We consider three main culprits in the speed-accuracy tradeoff curve, ranging from low-level cues like corners, edges, and agents is introduced and their important properties are exploited to classical approaches which fit a approaches art on convolutional neural networks. We localize of the error state of the large variety of many different points on convolutional neural networks. We develop a leader-follower multi-agent system, and agents is suitable for remaining controllable following the communication links and auditory joint t-controllability are introduced and their important properties are associated with some useful indices and sufficient condition for irregular low-density parity-check (LDPC) codes. participate in the trade-off between accuracy and working memory, respectively. Precentral structures are associated with a consumer-quality RGB image resolution, and speed when building an end-to-end fashion and SSD --- Faster R-CNN, R-FCN and communication links and joint t-controllability are participate in areas important properties are then joint t-controllability are known to a fair comparison between all of non-isomorphic ETS structures are anatomies can be are associated with a mobile phone, to introduce some novel\n"
          ]
        }
      ]
    },
    {
      "cell_type": "markdown",
      "metadata": {
        "id": "o7s73qNy5xEY"
      },
      "source": [
        "# Здесь должны быть эксперименты с архитектурой и параметрами сети"
      ]
    },
    {
      "cell_type": "code",
      "metadata": {
        "id": "ZS0qg5Ra54_X",
        "outputId": "fc4250a4-1c79-4489-ab15-8796818696c1",
        "colab": {
          "base_uri": "https://localhost:8080/"
        }
      },
      "source": [
        "!pip install alive_progress\n",
        "import alive_progress\n",
        "\n",
        "def get_losses(num_layers=1, lr=1e-4, temperature=0.8, epochs=3000):\n",
        "  net = RNN(unique_symbols, hidden_size, unique_symbols, num_layers)\n",
        "  device = torch.device(\"cuda\")\n",
        "  net = net.to(device)\n",
        "  optimizer = torch.optim.Adam(net.parameters(), lr=lr)\n",
        "  criterion = nn.CrossEntropyLoss()\n",
        "\n",
        "  # \n",
        "  all_losses = []\n",
        "  with alive_progress.alive_bar(epochs) as bar:\n",
        "    for epoch in range(1, epochs+1):\n",
        "      # #Your code for training here\n",
        "      for local_batch, local_labels in arxiv_generator:\n",
        "        for input, label in zip(local_batch, local_labels):\n",
        "          hidden = net.init_hidden().cuda()\n",
        "          net.zero_grad()\n",
        "          loss = 0\n",
        "\n",
        "          # get output\n",
        "          output, hidden = net(input[-1:].cuda(), hidden)\n",
        "          output_dist = output.data.view(-1).div(temperature).exp()\n",
        "          word_index = torch.multinomial(output_dist, 1)\n",
        "          predicted_word = arxiv_dataset.all_symbols[word_index.item()]\n",
        "      \n",
        "          # compute loss\n",
        "          loss = criterion(output, label[-1:].view(-1).long())\n",
        "\n",
        "          loss.backward()\n",
        "          optimizer.step()\n",
        "          all_losses.append(loss.data.item())\n",
        "      bar()\n",
        "  return all_losses"
      ],
      "execution_count": null,
      "outputs": [
        {
          "output_type": "stream",
          "name": "stdout",
          "text": [
            "Collecting alive_progress\n",
            "  Downloading alive_progress-2.3.1-py3-none-any.whl (79 kB)\n",
            "\u001b[?25l\r\u001b[K     |████▏                           | 10 kB 24.5 MB/s eta 0:00:01\r\u001b[K     |████████▎                       | 20 kB 10.2 MB/s eta 0:00:01\r\u001b[K     |████████████▍                   | 30 kB 8.7 MB/s eta 0:00:01\r\u001b[K     |████████████████▌               | 40 kB 4.4 MB/s eta 0:00:01\r\u001b[K     |████████████████████▊           | 51 kB 4.3 MB/s eta 0:00:01\r\u001b[K     |████████████████████████▉       | 61 kB 5.1 MB/s eta 0:00:01\r\u001b[K     |█████████████████████████████   | 71 kB 5.7 MB/s eta 0:00:01\r\u001b[K     |████████████████████████████████| 79 kB 2.1 MB/s \n",
            "\u001b[?25hCollecting grapheme==0.6.0\n",
            "  Downloading grapheme-0.6.0.tar.gz (207 kB)\n",
            "\u001b[K     |████████████████████████████████| 207 kB 34.0 MB/s \n",
            "\u001b[?25hCollecting about-time==3.1.1\n",
            "  Downloading about_time-3.1.1-py3-none-any.whl (9.1 kB)\n",
            "Building wheels for collected packages: grapheme\n",
            "  Building wheel for grapheme (setup.py) ... \u001b[?25l\u001b[?25hdone\n",
            "  Created wheel for grapheme: filename=grapheme-0.6.0-py3-none-any.whl size=210096 sha256=8f5e7bc8e36dc9565d9fb65e2a93b374f1b4377ebba20c613c2f95af899b3880\n",
            "  Stored in directory: /root/.cache/pip/wheels/71/fc/c8/142ef03b79c02b618fe80b9f2d01c25bd55f60b0c58eab3f0e\n",
            "Successfully built grapheme\n",
            "Installing collected packages: grapheme, about-time, alive-progress\n",
            "Successfully installed about-time-3.1.1 alive-progress-2.3.1 grapheme-0.6.0\n"
          ]
        }
      ]
    },
    {
      "cell_type": "code",
      "source": [
        "n_layers = [1, 2, 3]\n",
        "total_losses = []\n",
        "\n",
        "for n in n_layers:\n",
        "  total_losses.append(get_losses(num_layers=n))"
      ],
      "metadata": {
        "id": "510U1_6D8hnv",
        "outputId": "f0dcf7fd-1b52-40bb-b17c-0f2681ec4512",
        "colab": {
          "base_uri": "https://localhost:8080/"
        }
      },
      "execution_count": null,
      "outputs": [
        {
          "output_type": "stream",
          "name": "stdout",
          "text": [
            "|████████████████████████████████████████| 3000/3000 [100%] in 1:30.0 (33.33/s)\n",
            "|████████████████████████████████████████| 3000/3000 [100%] in 1:31.1 (32.93/s)\n",
            "|████████████████████████████████████████| 3000/3000 [100%] in 1:43.4 (29.01/s)\n"
          ]
        }
      ]
    },
    {
      "cell_type": "code",
      "source": [
        "fig, axs = plt.subplots(1, len(n_layers), figsize=(25,5))\n",
        "\n",
        "for ax, n, al in zip(axs.flat, n_layers, total_losses):\n",
        "    ax.set_title(f'n_layers:{n}')\n",
        "    ax.plot(al)"
      ],
      "metadata": {
        "id": "TQk21LJS92AN",
        "outputId": "2ebaee64-8dfd-46b4-e5df-3d0083008426",
        "colab": {
          "base_uri": "https://localhost:8080/",
          "height": 296
        }
      },
      "execution_count": null,
      "outputs": [
        {
          "output_type": "display_data",
          "data": {
            "text/plain": [
              "<Figure size 1800x360 with 3 Axes>"
            ],
            "image/png": "[encoded data removed]"
          },
          "metadata": {
            "needs_background": "light"
          }
        }
      ]
    },
    {
      "cell_type": "markdown",
      "source": [
        "из-за большого разброса при подсчете loss трудно выявить наличие или отсутствие какого-то влияния от количества слоев("
      ],
      "metadata": {
        "id": "2OinI00zDvMk"
      }
    },
    {
      "cell_type": "markdown",
      "metadata": {
        "id": "k4-MqjYH55pT"
      },
      "source": [
        "# Здесь будет работа с вашими датасетами (которые вы захотите использовать)"
      ]
    },
    {
      "cell_type": "code",
      "metadata": {
        "id": "eKxaIMDY6CMg",
        "colab": {
          "base_uri": "https://localhost:8080/"
        },
        "outputId": "e6058ea7-1907-4125-9713-90dded72bebd"
      },
      "source": [
        "from os import listdir\n",
        "from os.path import isfile, join\n",
        "import json\n",
        "import pathlib\n",
        "\n",
        "BASE_PATH = 'clinguistics_labs'\n",
        "\n",
        "if not os.path.exists(BASE_PATH):\n",
        "  ! git clone https://github.com/aailyinh/clinguistics_labs.git\n",
        "\n",
        "DATASET_PATH = f'{BASE_PATH}/Arzamas/texts'\n",
        "\n",
        "texts = []\n",
        "\n",
        "files = [f for f in listdir(DATASET_PATH) if isfile(join(DATASET_PATH, f))]\n",
        "files = sorted(files)"
      ],
      "execution_count": null,
      "outputs": [
        {
          "output_type": "stream",
          "name": "stdout",
          "text": [
            "Cloning into 'clinguistics_labs'...\n",
            "remote: Enumerating objects: 687, done.\u001b[K\n",
            "remote: Counting objects: 100% (687/687), done.\u001b[K\n",
            "remote: Compressing objects: 100% (667/667), done.\u001b[K\n",
            "remote: Total 687 (delta 30), reused 661 (delta 11), pack-reused 0\u001b[K\n",
            "Receiving objects: 100% (687/687), 68.71 MiB | 15.92 MiB/s, done.\n",
            "Resolving deltas: 100% (30/30), done.\n",
            "Checking out files: 100% (651/651), done.\n"
          ]
        }
      ]
    },
    {
      "cell_type": "code",
      "source": [
        "for fn in files:\n",
        "\t\tfull_fn = f'{DATASET_PATH}/{fn}'\n",
        "\t\t#print(full_fn)\n",
        "\t\twith open(full_fn) as txt_file:\n",
        "\t\t\tdata = txt_file.read()\n",
        "\t\t\ttexts.append(data)"
      ],
      "metadata": {
        "id": "uNcydIwxBQW6"
      },
      "execution_count": null,
      "outputs": []
    },
    {
      "cell_type": "code",
      "source": [
        "summaries_text = ' '.join(texts) \n",
        "summaries_text = summaries_text[:5000]\n",
        "summaries_text = summaries_text.split()\n",
        "print(summaries_text)\n",
        "\n",
        "# Parameters\n",
        "params = {\n",
        "    # 'batch_size': 0,\n",
        "    # 'shuffle': True,\n",
        "    # 'num_workers': 1\n",
        "}\n",
        "\n",
        "torch.multiprocessing.set_start_method(\"spawn\", force=True)\n",
        "\n",
        "# Generators\n",
        "russian_dataset = TextDataset(text=summaries_text, chunk_len=100)\n",
        "russian_generator = torch.utils.data.DataLoader(russian_dataset, **params)"
      ],
      "metadata": {
        "colab": {
          "base_uri": "https://localhost:8080/"
        },
        "id": "0oZWblD3BZXL",
        "outputId": "39a21eaf-3df5-4bf8-eaf8-76c171bbcb16"
      },
      "execution_count": null,
      "outputs": [
        {
          "output_type": "stream",
          "name": "stdout",
          "text": [
            "['Работа', 'под', 'названием', '\"Захоронение', 'Нефертити?\"', 'опубликована', 'на', 'научном', 'сайте', 'academia.edu.', 'Николас', 'Ривз,', 'египтолог', 'Института', 'Аризоны,', 'изучил', 'фотографии', 'и', '3D-сканы', 'гробницы,', 'сделанные', 'в', 'начале', 'года', 'компанией', 'Factum', 'Ave,', 'и,', 'как', 'он', 'считает,', 'увидел', 'следы', 'двух', 'дверей,', 'ведущих', 'в', 'скрытые', 'помещения,', 'одно', 'из', 'которых,', 'возможно,', 'является', 'сокровищницей,', 'а', 'другое', '--', 'местом', 'захоронения', 'царицы', '(на', 'что', 'якобы', 'указывают', 'и', 'фрески', 'на', 'стене).', 'Нефертити,', 'как', 'многие', 'полагают,', 'была', 'матерью', 'Тутанхамона,', 'но', 'как', 'получилось,', 'что', 'мать', 'тайно', 'похоронили', 'в', 'гробнице', 'сына?', 'Или,', 'точнее', '(как', 'формулирует', 'Ривз),', 'сына', '--', 'в', 'гробнице', 'матери?', 'Это', 'редкий', 'пример', 'научной', 'работы,', 'которая', 'читается', 'как', 'детектив.', 'Те,', 'кому', 'лень', 'изучать', 'ее', 'целиком,', 'могут', 'прочесть', 'краткий', 'пересказ', 'в', 'The', 'New', 'Yorker', '--', 'c', 'историей', 'вопроса,', 'цитатами', 'из', 'дневника', 'первооткрывателя', 'гробницы', 'Говарда', 'Картера', '(которого', 'тоже', 'смущали', 'разные', 'странности', 'в', 'устройстве', 'гробницы),', 'интервью', 'с', 'самим', 'Ривзом', 'и', 'пр.', 'В', 'августе', '1962-го', 'небольшая', 'английская', 'телекомпания', 'Granada', 'TV', 'сняла', 'для', 'своей', 'программы', '\"Know', 'The', 'North\"', 'набирающую', 'популярность', 'группу', 'из', 'Ливерпуля.', 'Группа', 'только', 'что', 'рассталась', 'со', 'своим', 'барабанщиком', 'Питом', 'Бестом', 'и', 'за', '4', 'дня', 'до', 'съемки', 'нашла', 'нового,', 'по', 'имени', 'Ринго.', 'К', 'моменту', 'съемки', 'у', 'The', 'Beatles', 'еще', 'нет', 'ни', 'одной', 'записанной', 'пластинки:', 'первый', 'сингл', 'выйдет', '5', 'октября', '1962', 'года.', 'В', 'эфир', 'эта', 'запись', 'не', 'пошла:', 'на', 'телевидении', 'посчитают', 'ее', 'слишком', 'темной', 'и', 'некачественной.', 'Granada', 'TV', 'снимет', 'The', 'Beatles', 'еще', 'раз', 'в', 'том', 'же', 'октябре,', 'вскоре', 'после', 'выхода', 'пластинки,', '--', 'это', 'будет', 'первое', 'появление', 'группы', 'на', 'телевидении.', 'Запись', 'из', 'The', 'Cavern', 'телевизионщики', 'все-таки', 'решат', 'показать', 'год', 'спустя,', 'на', 'фоне', 'набирающей', 'силу', '\"битломании\".', '\"Я', 'принадлежу', 'к', 'той', 'странной', 'породе', 'экономистов,', 'которые', 'полагают,', 'что', 'культура', 'влияет', 'на', 'экономику', 'не', 'меньше,', 'чем', 'экономика', 'влияет', 'на', 'культуру.', 'Если', 'обычно', 'экономистов', 'спрашивают,', 'как', 'устроить', 'экономику', 'культуры,', 'то', 'для', 'меня', 'серьезнейший', 'вопрос', '--', 'как', 'перестроить', 'культуру', 'экономики.', 'Нахождение', 'страны', 'в', 'том', 'или', 'ином', 'эшелоне,', 'длительные', 'проблемы,', 'с', 'которыми', 'сталкивается', 'страна', 'на', 'протяжении', 'веков,', 'нередко', 'связаны', 'с', 'теми', 'культурными', 'кодами', 'и', 'нормами,', 'которые', 'исповедует', 'эта', 'страна.', 'Поэтому', 'мне', 'хотелось', 'бы', 'рассказать', 'в', 'своей', 'лекции', 'как', 'о', 'том,', 'что', 'существуют', 'возможности', 'изменения', 'траектории', 'страны', 'в', 'результате', 'изменения', 'культурной', 'политики,', 'так', 'и', 'о', 'том,', 'что', 'культура', 'может', 'жить', 'по-другому,', 'если', 'признать', 'ее', 'экономическое', 'значение\".', 'Лекция', 'была', 'прочитана', 'в', 'рамках', 'лектория', 'Дирекции', 'образовательных', 'программ', 'Департамента', 'культуры', 'г.', 'Москвы', 'Послушать', 'запись', 'Гольдберг-вариаций,', 'о', 'которой', 'рассказывает', 'Гульд,', 'можно', 'здесь.', 'Миха', 'и', 'Дан', 'Глассы', 'попали', 'в', 'Терезинское', 'гетто', 'в', '1942', 'году,', 'когда', 'им', 'было', 'восемь', 'и', 'десять.', 'Это', 'был', 'в', 'некотором', 'смысле', 'образцовый', 'концлагерь', '--', 'в', 'нем', 'даже', 'был', 'свой', 'официальный', 'банк,', 'который', 'выпускал', 'внутреннюю', 'валюту.', 'Туда', 'даже', 'приглашали', 'комиссию', 'Красного', 'Креста,', 'которая', 'проверяла', 'условия', 'содержания', 'в', 'гетто.', 'Потом,', 'правда,', 'выяснилось:', 'чтобы', 'скрыть,', 'что', 'Терезиенштадт', 'перенаселен,', 'а', 'люди', 'в', 'нем', 'голодают,', 'большую', 'часть', 'заключенных', 'накануне', 'приезда', 'комиссии', 'вывезли', 'в', 'Освенцим.', 'В', 'подпольной', 'мастерской', 'Терезиенштадта', 'художник', 'Освальд', 'Пёк', 'в', '1943', 'году', 'нарисовал', 'специальную', '\"Монополию\",', 'адаптированную', 'под', 'местные', 'реалии.', 'Все', 'названия', 'в', 'ней', 'соответствуют', 'реальной', 'топографии', 'гетто:', 'Магдебургская', 'улица', 'вместо', 'Broadwalk,', 'Ганноверская', '--', 'вместо', 'Park', 'Place,', 'Дрезденская', '--', 'вместо', 'New', 'York', 'Avenue', 'В', 'оригинальной', 'версии', 'игры,', 'выпущенной', 'в', 'период', 'Великой', 'депрессии', 'в', 'США,', 'были', 'использованы', 'реальные', 'топонимы', 'Атлантик-Сити.,', 'а', 'еще', 'есть', 'почта,', 'булочная,', 'водонапорная', 'башня', 'и', 'санитарный', 'пункт.', 'Одной', 'из', 'функций', 'игры', 'было', 'научить', 'детей', 'жизни', 'в', 'гетто.', 'Миха', 'и', 'Дан', 'Глассы', 'тоже', 'играли', 'в', 'эту', '\"Монополию\".', '8', 'мая', '1945', 'года', 'советские', 'войска', 'освободили', 'Терезиенштадт.', 'За', 'четыре', 'с', 'половиной', 'года', 'в', 'лагерь', 'попало', 'больше', '140', 'тысяч', 'человек,', 'каждый', 'десятый', '--', 'ребенок.', '33', 'тысячи', 'человек', 'умерло', 'в', 'гетто,', 'а', '88', 'тысяч', 'было', 'депортировано', 'в', 'лагеря', 'смерти.', 'Освальд', 'Пёк', 'погиб', 'в', 'сентябре', '1944', 'года', 'в', 'Освенциме.', 'Миха', 'и', 'Дан', 'не', 'только', 'выжили,', 'но', 'и', 'сохранили', 'его', '\"Монополию\".', 'В', '1994', 'году', 'они', 'передали', 'ее', 'в', 'коллекцию', 'национального', 'мемориала', '\"Яд', 'Вашем\"', 'в', 'Иерусалиме.', 'Лаконичное', 'название', 'этой', 'книги', '--', 'точнее,', 'отсутствие', 'всякого', 'названия', '--', 'только', 'подчеркивает', 'исключительность', 'этого', 'собрания,', 'составленного', 'самим', 'художником.', 'Пивоваров,', 'как', 'и', 'Булатов,', 'Кабаков', 'и', 'все', 'остальные', 'московские', 'концептуалисты,', 'не', 'избалован', 'альбомами.', 'Они', 'чаще', 'встречаются', 'нам', 'в', 'виде', 'мемуаров', 'или', 'переизданий', 'советских', 'детских', 'книг', '(если', 'не', 'считать', 'редких', 'и', 'быстро', 'исчезающих', 'из', 'продажи', 'каталогов', 'к', 'выставкам).', 'И', 'на', 'этом', 'фоне', '--', 'такое', 'грандиозное', 'подробное', 'автоизбранное,', 'best', 'of', 'the', 'best,', 'огромная', 'глава', 'из', 'истории', 'московского', 'концептуализма,', 'начиная', 'от', '\"Проектов', 'для', 'одинокого', 'человека\"', '1975', 'года', 'и', 'заканчивая', 'циклами', 'последних', 'лет.', 'И,', 'к', 'слову', 'про', 'каталоги', 'к', 'выставкам,', 'если', 'станете', 'гоняться', 'за', 'Пивоваровым', 'по', 'книжным', 'магазинам,', 'то', 'можно', 'заодно', 'поискать', 'каталог', 'к', 'только', 'что', 'прошедшей', 'в', 'Музее', 'Востока', 'выставке', '\"Лисы', 'и', 'праздники\"', '--', 'вымышленной', 'ми']\n",
            "chunks: 7\n"
          ]
        }
      ]
    },
    {
      "cell_type": "code",
      "source": [
        "unique_symbols = len(russian_dataset.all_symbols)\n",
        "n_layers = 2\n",
        "hidden_size = 100\n",
        "\n",
        "net_2 = RNN(unique_symbols, hidden_size, unique_symbols, n_layers)\n",
        "device = torch.device(\"cuda\")\n",
        "net_2 = net_2.to(device)\n",
        "optimizer = torch.optim.Adam(net_2.parameters(), lr=1e-4)\n",
        "criterion = nn.CrossEntropyLoss()"
      ],
      "metadata": {
        "id": "dpSqA71PBb9a"
      },
      "execution_count": null,
      "outputs": []
    },
    {
      "cell_type": "code",
      "source": [
        "epochs = 10000\n",
        "\n",
        "start = time.time()\n",
        "all_losses_2 = []\n",
        "temperature = 0.8\n",
        "\n",
        "for epoch in range(1, epochs+1):\n",
        "  # #Your code for training here\n",
        "  for local_batch, local_labels in russian_generator:\n",
        "    for input, label in zip(local_batch, local_labels):\n",
        "      hidden = net_2.init_hidden().cuda()\n",
        "      net_2.zero_grad()\n",
        "      loss = 0\n",
        "\n",
        "      # get output\n",
        "      output, hidden = net_2(input[-1:].cuda(), hidden)\n",
        "      output_dist = output.data.view(-1).div(temperature).exp()\n",
        "      word_index = torch.multinomial(output_dist, 1)\n",
        "      predicted_word = russian_dataset.all_symbols[word_index.item()]\n",
        "      \n",
        "      # compute loss\n",
        "      loss = criterion(output, label[-1:].view(-1).long())\n",
        "\n",
        "      loss.backward()\n",
        "      optimizer.step()\n",
        "      all_losses_2.append(loss.data.item())\n",
        "\n",
        "print(\"Saving...\")\n",
        "RNN.save_model(net_2, \"TrainedModel.ckpt\")"
      ],
      "metadata": {
        "colab": {
          "base_uri": "https://localhost:8080/"
        },
        "id": "WTMIDBNsBeb7",
        "outputId": "2835cc58-b654-4e29-c09f-329b830c1692"
      },
      "execution_count": null,
      "outputs": [
        {
          "output_type": "stream",
          "name": "stdout",
          "text": [
            "Saving...\n"
          ]
        }
      ]
    },
    {
      "cell_type": "code",
      "source": [
        "plt.figure()\n",
        "plt.plot(all_losses_2)"
      ],
      "metadata": {
        "colab": {
          "base_uri": "https://localhost:8080/",
          "height": 282
        },
        "id": "KkM9vCFEBg2W",
        "outputId": "3538d8fc-4ad0-419a-ecd7-a8894c809e0e"
      },
      "execution_count": null,
      "outputs": [
        {
          "output_type": "execute_result",
          "data": {
            "text/plain": [
              "[<matplotlib.lines.Line2D at 0x7f7b47070110>]"
            ]
          },
          "metadata": {},
          "execution_count": 27
        },
        {
          "output_type": "display_data",
          "data": {
            "text/plain": [
              "<Figure size 432x288 with 1 Axes>"
            ],
            "image/png": "[encoded data removed]"
          },
          "metadata": {
            "needs_background": "light"
          }
        }
      ]
    },
    {
      "cell_type": "code",
      "source": [
        "!pip install alive_progress\n",
        "import alive_progress\n",
        "\n",
        "\n",
        "def get_losses(num_layers=1, lr=1e-4, temperature=0.8, epochs=3000):\n",
        "  net = RNN(unique_symbols, hidden_size, unique_symbols, num_layers)\n",
        "  device = torch.device(\"cuda\")\n",
        "  net = net.to(device)\n",
        "  optimizer = torch.optim.Adam(net.parameters(), lr=lr)\n",
        "  criterion = nn.CrossEntropyLoss()\n",
        "\n",
        "  # \n",
        "  all_losses = []\n",
        "  with alive_progress.alive_bar(epochs) as bar:\n",
        "    for epoch in range(1, epochs+1):\n",
        "      # #Your code for training here\n",
        "      for local_batch, local_labels in russian_generator:\n",
        "        for input, label in zip(local_batch, local_labels):\n",
        "          hidden = net.init_hidden().cuda()\n",
        "          net.zero_grad()\n",
        "          loss = 0\n",
        "\n",
        "          # get output\n",
        "          output, hidden = net(input[-1:].cuda(), hidden)\n",
        "          output_dist = output.data.view(-1).div(temperature).exp()\n",
        "          word_index = torch.multinomial(output_dist, 1)\n",
        "          predicted_word = russian_dataset.all_symbols[word_index.item()]\n",
        "      \n",
        "          # compute loss\n",
        "          loss = criterion(output, label[-1:].view(-1).long())\n",
        "\n",
        "          loss.backward()\n",
        "          optimizer.step()\n",
        "          all_losses.append(loss.data.item())\n",
        "      bar()\n",
        "  return all_losses"
      ],
      "metadata": {
        "colab": {
          "base_uri": "https://localhost:8080/"
        },
        "id": "ZKyIEVHNBjox",
        "outputId": "ee53f27b-cb43-4461-8a6a-8e916cb77228"
      },
      "execution_count": null,
      "outputs": [
        {
          "output_type": "stream",
          "name": "stdout",
          "text": [
            "Requirement already satisfied: alive_progress in /usr/local/lib/python3.7/dist-packages (2.3.1)\n",
            "Requirement already satisfied: grapheme==0.6.0 in /usr/local/lib/python3.7/dist-packages (from alive_progress) (0.6.0)\n",
            "Requirement already satisfied: about-time==3.1.1 in /usr/local/lib/python3.7/dist-packages (from alive_progress) (3.1.1)\n"
          ]
        }
      ]
    },
    {
      "cell_type": "code",
      "source": [
        "n_layers = [1, 2, 3]\n",
        "total_losses = []\n",
        "\n",
        "for n in n_layers:\n",
        "  total_losses.append(get_losses(num_layers=n))"
      ],
      "metadata": {
        "colab": {
          "base_uri": "https://localhost:8080/"
        },
        "id": "dc15YHV5BmE_",
        "outputId": "5fdec529-7561-4564-fde7-a9520eb0a733"
      },
      "execution_count": null,
      "outputs": [
        {
          "output_type": "stream",
          "name": "stdout",
          "text": [
            "|████████████████████████████████████████| 3000/3000 [100%] in 1:33.7 (32.03/s)\n",
            "|████████████████████████████████████████| 3000/3000 [100%] in 1:37.8 (30.66/s)\n",
            "|████████████████████████████████████████| 3000/3000 [100%] in 1:48.6 (27.62/s)\n"
          ]
        }
      ]
    },
    {
      "cell_type": "code",
      "source": [
        "fig, axs = plt.subplots(1, len(n_layers), figsize=(25,5))\n",
        "\n",
        "for ax, n, al in zip(axs.flat, n_layers, total_losses):\n",
        "    ax.set_title(f'n_layers:{n}')\n",
        "    ax.plot(al)"
      ],
      "metadata": {
        "colab": {
          "base_uri": "https://localhost:8080/",
          "height": 296
        },
        "id": "234H5ZESBms0",
        "outputId": "f1fa65cc-69aa-4209-84ed-407e38fe942c"
      },
      "execution_count": null,
      "outputs": [
        {
          "output_type": "display_data",
          "data": {
            "text/plain": [
              "<Figure size 1800x360 with 3 Axes>"
            ],
            "image/png": "[encoded data removed]"
          },
          "metadata": {
            "needs_background": "light"
          }
        }
      ]
    }
  ]
}